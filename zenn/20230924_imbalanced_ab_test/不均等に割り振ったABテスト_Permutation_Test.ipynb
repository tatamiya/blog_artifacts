{
  "nbformat": 4,
  "nbformat_minor": 0,
  "metadata": {
    "colab": {
      "provenance": [],
      "authorship_tag": "ABX9TyNDTcTtUGn5e/7YmAWYVitL",
      "include_colab_link": true
    },
    "kernelspec": {
      "name": "python3",
      "display_name": "Python 3"
    },
    "language_info": {
      "name": "python"
    }
  },
  "cells": [
    {
      "cell_type": "markdown",
      "metadata": {
        "id": "view-in-github",
        "colab_type": "text"
      },
      "source": [
        "<a href=\"https://colab.research.google.com/github/tatamiya/blog_artifacts/blob/main/zenn/20230924/%E4%B8%8D%E5%9D%87%E7%AD%89%E3%81%AB%E5%89%B2%E3%82%8A%E6%8C%AF%E3%81%A3%E3%81%9FAB%E3%83%86%E3%82%B9%E3%83%88_Permutation_Test.ipynb\" target=\"_parent\"><img src=\"https://colab.research.google.com/assets/colab-badge.svg\" alt=\"Open In Colab\"/></a>"
      ]
    },
    {
      "cell_type": "markdown",
      "source": [
        "# Permutation Test\n",
        "https://docs.scipy.org/doc/scipy/reference/generated/scipy.stats.permutation_test.html"
      ],
      "metadata": {
        "id": "uaeX0ujtVEP4"
      }
    },
    {
      "cell_type": "code",
      "source": [
        "import numpy as np\n",
        "from scipy.stats import permutation_test, bernoulli\n",
        "\n",
        "import matplotlib.pyplot as plt"
      ],
      "metadata": {
        "id": "NvLb2S_uVGIw"
      },
      "execution_count": 1,
      "outputs": []
    },
    {
      "cell_type": "code",
      "source": [
        "p_a=0.001\n",
        "p_b=0.001\n",
        "\n",
        "sample_size_a = 1000\n",
        "sample_size_b = 100"
      ],
      "metadata": {
        "id": "epTzkPcbt3Z9"
      },
      "execution_count": 2,
      "outputs": []
    },
    {
      "cell_type": "code",
      "source": [
        "def statistic(x, y, axis):\n",
        "    return np.mean(x, axis=axis) - np.mean(y, axis=axis)"
      ],
      "metadata": {
        "id": "I0ZJdUtqVdpE"
      },
      "execution_count": 3,
      "outputs": []
    },
    {
      "cell_type": "markdown",
      "source": [
        "# 1度のみの試行例"
      ],
      "metadata": {
        "id": "2DLkpBfhuLB3"
      }
    },
    {
      "cell_type": "code",
      "source": [
        "ber_x_a = bernoulli.rvs(p_a, size=sample_size_a, random_state=13)\n",
        "ber_x_b = bernoulli.rvs(p_b, size=sample_size_b, random_state=13)"
      ],
      "metadata": {
        "id": "8ZIoDa86Xyoh"
      },
      "execution_count": 38,
      "outputs": []
    },
    {
      "cell_type": "code",
      "source": [
        "ber_x_a.mean() - ber_x_b.mean()"
      ],
      "metadata": {
        "colab": {
          "base_uri": "https://localhost:8080/"
        },
        "id": "Yoj4STBqujpq",
        "outputId": "00ba8c17-30ee-472e-bf20-e52b69268fc0"
      },
      "execution_count": 39,
      "outputs": [
        {
          "output_type": "execute_result",
          "data": {
            "text/plain": [
              "0.003"
            ]
          },
          "metadata": {},
          "execution_count": 39
        }
      ]
    },
    {
      "cell_type": "code",
      "source": [
        "res = permutation_test((ber_x_a, ber_x_b), statistic, vectorized=True, alternative='two-sided')\n",
        "res"
      ],
      "metadata": {
        "id": "P6mh6x1QXnjN",
        "colab": {
          "base_uri": "https://localhost:8080/"
        },
        "outputId": "a3984873-45e0-4300-c20e-1ad91391c4a2"
      },
      "execution_count": 40,
      "outputs": [
        {
          "output_type": "execute_result",
          "data": {
            "text/plain": [
              "PermutationTestResult(statistic=0.003, pvalue=1.0, null_distribution=array([ 0.003,  0.003,  0.003, ...,  0.003,  0.003, -0.008]))"
            ]
          },
          "metadata": {},
          "execution_count": 40
        }
      ]
    },
    {
      "cell_type": "code",
      "source": [
        "res.pvalue"
      ],
      "metadata": {
        "colab": {
          "base_uri": "https://localhost:8080/"
        },
        "id": "1JaAfLAKv_FD",
        "outputId": "54591195-6d30-4a00-d824-333615a120be"
      },
      "execution_count": 41,
      "outputs": [
        {
          "output_type": "execute_result",
          "data": {
            "text/plain": [
              "1.0"
            ]
          },
          "metadata": {},
          "execution_count": 41
        }
      ]
    },
    {
      "cell_type": "code",
      "source": [
        "plt.hist(res.null_distribution, bins=50)\n",
        "plt.title(\"Permutation distribution of test statistic\")\n",
        "plt.xlabel(\"Value of Statistic\")\n",
        "plt.ylabel(\"Frequency\")\n",
        "plt.show()"
      ],
      "metadata": {
        "id": "OZfRBiVvZVVs",
        "colab": {
          "base_uri": "https://localhost:8080/",
          "height": 472
        },
        "outputId": "7d330ccb-4188-44a8-a251-b3ae32c8e9c4"
      },
      "execution_count": 21,
      "outputs": [
        {
          "output_type": "display_data",
          "data": {
            "text/plain": [
              "<Figure size 640x480 with 1 Axes>"
            ],
            "image/png": "[encoded data removed]"
          },
          "metadata": {}
        }
      ]
    },
    {
      "cell_type": "code",
      "source": [],
      "metadata": {
        "id": "fE8TeHOpar88"
      },
      "execution_count": 8,
      "outputs": []
    },
    {
      "cell_type": "markdown",
      "source": [
        "# 100回試行"
      ],
      "metadata": {
        "id": "5IeRJRrPumOe"
      }
    },
    {
      "cell_type": "code",
      "source": [
        "num_iter = 100\n",
        "\n",
        "ber_x_a = bernoulli.rvs(p_a, size=(sample_size_a, num_iter), random_state=13)\n",
        "ber_x_b = bernoulli.rvs(p_b, size=(sample_size_b, num_iter), random_state=13)"
      ],
      "metadata": {
        "id": "JXaYqBo_bMKx"
      },
      "execution_count": 32,
      "outputs": []
    },
    {
      "cell_type": "code",
      "source": [
        "ber_x_a.mean(0) - ber_x_b.mean(0)"
      ],
      "metadata": {
        "colab": {
          "base_uri": "https://localhost:8080/"
        },
        "id": "3w2cEoS1uuwo",
        "outputId": "b92ddb76-0d6e-46e9-cf08-c503a48322ac"
      },
      "execution_count": 33,
      "outputs": [
        {
          "output_type": "execute_result",
          "data": {
            "text/plain": [
              "array([ 0.001,  0.   ,  0.002,  0.   ,  0.   ,  0.   ,  0.001,  0.   ,\n",
              "        0.   ,  0.002,  0.   , -0.008, -0.009,  0.001,  0.003,  0.001,\n",
              "        0.001,  0.001,  0.   ,  0.   ,  0.   ,  0.001,  0.001,  0.001,\n",
              "        0.001,  0.   ,  0.   ,  0.   ,  0.   ,  0.   ,  0.001,  0.   ,\n",
              "        0.001,  0.001, -0.009,  0.   ,  0.001,  0.003, -0.018,  0.   ,\n",
              "        0.001,  0.   ,  0.001,  0.001,  0.   ,  0.   ,  0.002,  0.004,\n",
              "        0.001,  0.   ,  0.   ,  0.001,  0.   ,  0.   ,  0.   ,  0.003,\n",
              "        0.   ,  0.   ,  0.001,  0.001,  0.004,  0.   ,  0.   ,  0.002,\n",
              "        0.002,  0.001,  0.   ,  0.001,  0.   ,  0.   ,  0.002,  0.   ,\n",
              "        0.   ,  0.   ,  0.001,  0.   ,  0.001,  0.001,  0.001,  0.   ,\n",
              "        0.003,  0.001,  0.   ,  0.003, -0.007,  0.001, -0.008,  0.001,\n",
              "        0.001,  0.   ,  0.   ,  0.   ,  0.002,  0.001,  0.001, -0.008,\n",
              "       -0.008,  0.003,  0.001,  0.   ])"
            ]
          },
          "metadata": {},
          "execution_count": 33
        }
      ]
    },
    {
      "cell_type": "code",
      "source": [
        "res = permutation_test((ber_x_a, ber_x_b), statistic, vectorized=True, alternative='two-sided')\n",
        "res"
      ],
      "metadata": {
        "colab": {
          "base_uri": "https://localhost:8080/"
        },
        "id": "f-86nZAUuzhE",
        "outputId": "fcc4e12d-9e4e-4eb3-cd22-58492eb8578d"
      },
      "execution_count": 34,
      "outputs": [
        {
          "output_type": "execute_result",
          "data": {
            "text/plain": [
              "PermutationTestResult(statistic=array([ 0.001,  0.   ,  0.002,  0.   ,  0.   ,  0.   ,  0.001,  0.   ,\n",
              "        0.   ,  0.002,  0.   , -0.008, -0.009,  0.001,  0.003,  0.001,\n",
              "        0.001,  0.001,  0.   ,  0.   ,  0.   ,  0.001,  0.001,  0.001,\n",
              "        0.001,  0.   ,  0.   ,  0.   ,  0.   ,  0.   ,  0.001,  0.   ,\n",
              "        0.001,  0.001, -0.009,  0.   ,  0.001,  0.003, -0.018,  0.   ,\n",
              "        0.001,  0.   ,  0.001,  0.001,  0.   ,  0.   ,  0.002,  0.004,\n",
              "        0.001,  0.   ,  0.   ,  0.001,  0.   ,  0.   ,  0.   ,  0.003,\n",
              "        0.   ,  0.   ,  0.001,  0.001,  0.004,  0.   ,  0.   ,  0.002,\n",
              "        0.002,  0.001,  0.   ,  0.001,  0.   ,  0.   ,  0.002,  0.   ,\n",
              "        0.   ,  0.   ,  0.001,  0.   ,  0.001,  0.001,  0.001,  0.   ,\n",
              "        0.003,  0.001,  0.   ,  0.003, -0.007,  0.001, -0.008,  0.001,\n",
              "        0.001,  0.   ,  0.   ,  0.   ,  0.002,  0.001,  0.001, -0.008,\n",
              "       -0.008,  0.003,  0.001,  0.   ]), pvalue=array([1.    , 1.    , 1.    , 1.    , 1.    , 1.    , 1.    , 1.    ,\n",
              "       1.    , 1.    , 1.    , 0.4968, 0.3488, 1.    , 1.    , 1.    ,\n",
              "       1.    , 1.    , 1.    , 1.    , 1.    , 1.    , 1.    , 1.    ,\n",
              "       1.    , 1.    , 1.    , 1.    , 1.    , 1.    , 1.    , 1.    ,\n",
              "       1.    , 1.    , 0.3484, 1.    , 1.    , 1.    , 0.0866, 1.    ,\n",
              "       1.    , 1.    , 1.    , 1.    , 1.    , 1.    , 1.    , 1.    ,\n",
              "       1.    , 1.    , 1.    , 1.    , 1.    , 1.    , 1.    , 1.    ,\n",
              "       1.    , 1.    , 1.    , 1.    , 1.    , 1.    , 1.    , 1.    ,\n",
              "       1.    , 1.    , 1.    , 1.    , 1.    , 1.    , 1.    , 1.    ,\n",
              "       1.    , 1.    , 1.    , 1.    , 1.    , 1.    , 1.    , 1.    ,\n",
              "       1.    , 1.    , 1.    , 1.    , 0.6176, 1.    , 0.5096, 1.    ,\n",
              "       1.    , 1.    , 1.    , 1.    , 1.    , 1.    , 1.    , 0.5096,\n",
              "       0.494 , 1.    , 1.    , 1.    ]), null_distribution=array([[ 0.001,  0.   , -0.009, ...,  0.003,  0.001,  0.   ],\n",
              "       [ 0.001,  0.   ,  0.002, ...,  0.003,  0.001,  0.   ],\n",
              "       [ 0.001,  0.   ,  0.002, ..., -0.008, -0.01 ,  0.   ],\n",
              "       ...,\n",
              "       [ 0.001,  0.   ,  0.002, ..., -0.008,  0.001,  0.   ],\n",
              "       [ 0.001,  0.   , -0.009, ...,  0.003,  0.001,  0.   ],\n",
              "       [ 0.001,  0.   ,  0.002, ...,  0.003, -0.01 ,  0.   ]]))"
            ]
          },
          "metadata": {},
          "execution_count": 34
        }
      ]
    },
    {
      "cell_type": "code",
      "source": [
        "# 100回の試行の中で、「有意差あり」と判断が出たケースがどれだけあったかを調べる\n",
        "(res.pvalue < 0.05).mean()"
      ],
      "metadata": {
        "colab": {
          "base_uri": "https://localhost:8080/"
        },
        "id": "81w15tFAu5B_",
        "outputId": "088b8c36-049d-4676-e893-8f9ed0cd672e"
      },
      "execution_count": 35,
      "outputs": [
        {
          "output_type": "execute_result",
          "data": {
            "text/plain": [
              "0.0"
            ]
          },
          "metadata": {},
          "execution_count": 35
        }
      ]
    },
    {
      "cell_type": "code",
      "source": [],
      "metadata": {
        "id": "FsYGCrOWvQjb"
      },
      "execution_count": null,
      "outputs": []
    }
  ]
}