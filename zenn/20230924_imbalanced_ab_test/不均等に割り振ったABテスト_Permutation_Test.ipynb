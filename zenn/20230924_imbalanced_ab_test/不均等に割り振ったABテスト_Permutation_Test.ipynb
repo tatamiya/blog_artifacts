{
  "nbformat": 4,
  "nbformat_minor": 0,
  "metadata": {
    "colab": {
      "provenance": [],
      "authorship_tag": "ABX9TyNPwAVUsdts0la2UYGa8xN8",
      "include_colab_link": true
    },
    "kernelspec": {
      "name": "python3",
      "display_name": "Python 3"
    },
    "language_info": {
      "name": "python"
    }
  },
  "cells": [
    {
      "cell_type": "markdown",
      "metadata": {
        "id": "view-in-github",
        "colab_type": "text"
      },
      "source": [
        "<a href=\"https://colab.research.google.com/github/tatamiya/blog_artifacts/blob/main/zenn/20230924_imbalanced_ab_test/%E4%B8%8D%E5%9D%87%E7%AD%89%E3%81%AB%E5%89%B2%E3%82%8A%E6%8C%AF%E3%81%A3%E3%81%9FAB%E3%83%86%E3%82%B9%E3%83%88_Permutation_Test.ipynb\" target=\"_parent\"><img src=\"https://colab.research.google.com/assets/colab-badge.svg\" alt=\"Open In Colab\"/></a>"
      ]
    },
    {
      "cell_type": "markdown",
      "source": [
        "# Permutation Test\n",
        "https://docs.scipy.org/doc/scipy/reference/generated/scipy.stats.permutation_test.html"
      ],
      "metadata": {
        "id": "uaeX0ujtVEP4"
      }
    },
    {
      "cell_type": "code",
      "source": [
        "import numpy as np\n",
        "from scipy.stats import permutation_test, bernoulli\n",
        "\n",
        "import matplotlib.pyplot as plt"
      ],
      "metadata": {
        "id": "NvLb2S_uVGIw"
      },
      "execution_count": 1,
      "outputs": []
    },
    {
      "cell_type": "code",
      "source": [
        "p=0.001\n",
        "\n",
        "sample_size_a = 1000\n",
        "sample_size_b = 100"
      ],
      "metadata": {
        "id": "epTzkPcbt3Z9"
      },
      "execution_count": 2,
      "outputs": []
    },
    {
      "cell_type": "code",
      "source": [
        "def statistic(x, y, axis):\n",
        "    return np.mean(x, axis=axis) - np.mean(y, axis=axis)"
      ],
      "metadata": {
        "id": "I0ZJdUtqVdpE"
      },
      "execution_count": 3,
      "outputs": []
    },
    {
      "cell_type": "markdown",
      "source": [
        "# 1度のみの試行例"
      ],
      "metadata": {
        "id": "2DLkpBfhuLB3"
      }
    },
    {
      "cell_type": "code",
      "source": [
        "ber_x_a = bernoulli.rvs(p, size=sample_size_a, random_state=13)\n",
        "ber_x_b = bernoulli.rvs(p, size=sample_size_b, random_state=13)"
      ],
      "metadata": {
        "id": "8ZIoDa86Xyoh"
      },
      "execution_count": 4,
      "outputs": []
    },
    {
      "cell_type": "code",
      "source": [
        "ber_x_a.mean() - ber_x_b.mean()"
      ],
      "metadata": {
        "colab": {
          "base_uri": "https://localhost:8080/"
        },
        "id": "Yoj4STBqujpq",
        "outputId": "666d6862-43a0-46b6-a8aa-3567e58b6eb2"
      },
      "execution_count": 5,
      "outputs": [
        {
          "output_type": "execute_result",
          "data": {
            "text/plain": [
              "0.003"
            ]
          },
          "metadata": {},
          "execution_count": 5
        }
      ]
    },
    {
      "cell_type": "code",
      "source": [
        "res = permutation_test((ber_x_a, ber_x_b), statistic, vectorized=True, alternative='two-sided')\n",
        "res"
      ],
      "metadata": {
        "id": "P6mh6x1QXnjN",
        "colab": {
          "base_uri": "https://localhost:8080/"
        },
        "outputId": "25f21e77-af0b-40eb-f649-7ef04da15688"
      },
      "execution_count": 6,
      "outputs": [
        {
          "output_type": "execute_result",
          "data": {
            "text/plain": [
              "PermutationTestResult(statistic=0.003, pvalue=1.0, null_distribution=array([ 0.003, -0.008,  0.003, ...,  0.003,  0.003,  0.003]))"
            ]
          },
          "metadata": {},
          "execution_count": 6
        }
      ]
    },
    {
      "cell_type": "code",
      "source": [
        "res.pvalue"
      ],
      "metadata": {
        "colab": {
          "base_uri": "https://localhost:8080/"
        },
        "id": "1JaAfLAKv_FD",
        "outputId": "1918991a-cc58-45fb-ab08-d4f5af78054f"
      },
      "execution_count": 7,
      "outputs": [
        {
          "output_type": "execute_result",
          "data": {
            "text/plain": [
              "1.0"
            ]
          },
          "metadata": {},
          "execution_count": 7
        }
      ]
    },
    {
      "cell_type": "code",
      "source": [
        "plt.hist(res.null_distribution, bins=50)\n",
        "plt.title(\"Permutation distribution of test statistic\")\n",
        "plt.xlabel(\"Value of Statistic\")\n",
        "plt.ylabel(\"Frequency\")\n",
        "plt.show()"
      ],
      "metadata": {
        "id": "OZfRBiVvZVVs",
        "colab": {
          "base_uri": "https://localhost:8080/",
          "height": 472
        },
        "outputId": "4c37906f-9362-4226-a5ac-a1274d4c6c95"
      },
      "execution_count": 8,
      "outputs": [
        {
          "output_type": "display_data",
          "data": {
            "text/plain": [
              "<Figure size 640x480 with 1 Axes>"
            ],
            "image/png": "[encoded data removed]"
          },
          "metadata": {}
        }
      ]
    },
    {
      "cell_type": "code",
      "source": [],
      "metadata": {
        "id": "fE8TeHOpar88"
      },
      "execution_count": 8,
      "outputs": []
    },
    {
      "cell_type": "markdown",
      "source": [
        "# 10,000回試行"
      ],
      "metadata": {
        "id": "5IeRJRrPumOe"
      }
    },
    {
      "cell_type": "code",
      "source": [
        "num_iteration = 10000\n",
        "\n",
        "ber_x_a = bernoulli.rvs(p, size=(sample_size_a, num_iteration), random_state=13)\n",
        "ber_x_b = bernoulli.rvs(p, size=(sample_size_b, num_iteration), random_state=13)"
      ],
      "metadata": {
        "id": "JXaYqBo_bMKx"
      },
      "execution_count": 9,
      "outputs": []
    },
    {
      "cell_type": "code",
      "source": [
        "pt_pvalues = np.array([permutation_test((x_a_i, x_b_i), statistic, vectorized=True, alternative='two-sided').pvalue for x_a_i, x_b_i in zip(ber_x_a.T, ber_x_b.T)])"
      ],
      "metadata": {
        "id": "f-86nZAUuzhE"
      },
      "execution_count": 10,
      "outputs": []
    },
    {
      "cell_type": "code",
      "source": [
        "# 10000回の試行の中で、「有意差あり」と判断が出たケースがどれだけあったかを調べる\n",
        "(pt_pvalues < 0.05).mean()"
      ],
      "metadata": {
        "colab": {
          "base_uri": "https://localhost:8080/"
        },
        "id": "81w15tFAu5B_",
        "outputId": "c0b71d7b-874a-4016-e30c-6fe0d0a3f23d"
      },
      "execution_count": 11,
      "outputs": [
        {
          "output_type": "execute_result",
          "data": {
            "text/plain": [
              "0.0"
            ]
          },
          "metadata": {},
          "execution_count": 11
        }
      ]
    },
    {
      "cell_type": "code",
      "source": [
        "plt.hist(pt_pvalues)"
      ],
      "metadata": {
        "colab": {
          "base_uri": "https://localhost:8080/",
          "height": 517
        },
        "id": "FsYGCrOWvQjb",
        "outputId": "6e93234c-277d-437f-d4dc-d9427f0848fd"
      },
      "execution_count": 12,
      "outputs": [
        {
          "output_type": "execute_result",
          "data": {
            "text/plain": [
              "(array([2.700e+01, 6.000e+00, 3.020e+02, 2.500e+01, 3.530e+02, 6.100e+01,\n",
              "        1.000e+02, 4.400e+01, 4.000e+00, 9.078e+03]),\n",
              " array([0.0826 , 0.17434, 0.26608, 0.35782, 0.44956, 0.5413 , 0.63304,\n",
              "        0.72478, 0.81652, 0.90826, 1.     ]),\n",
              " <BarContainer object of 10 artists>)"
            ]
          },
          "metadata": {},
          "execution_count": 12
        },
        {
          "output_type": "display_data",
          "data": {
            "text/plain": [
              "<Figure size 640x480 with 1 Axes>"
            ],
            "image/png": "[encoded data removed]"
          },
          "metadata": {}
        }
      ]
    }
  ]
}