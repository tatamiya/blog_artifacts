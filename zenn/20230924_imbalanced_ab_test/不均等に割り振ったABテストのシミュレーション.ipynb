{
  "nbformat": 4,
  "nbformat_minor": 0,
  "metadata": {
    "colab": {
      "provenance": [],
      "authorship_tag": "ABX9TyMRbafZRdFGd6owh89IZ9iR",
      "include_colab_link": true
    },
    "kernelspec": {
      "name": "python3",
      "display_name": "Python 3"
    },
    "language_info": {
      "name": "python"
    }
  },
  "cells": [
    {
      "cell_type": "markdown",
      "metadata": {
        "id": "view-in-github",
        "colab_type": "text"
      },
      "source": [
        "<a href=\"https://colab.research.google.com/github/tatamiya/blog_artifacts/blob/main/zenn/20230924_imbalanced_ab_test/%E4%B8%8D%E5%9D%87%E7%AD%89%E3%81%AB%E5%89%B2%E3%82%8A%E6%8C%AF%E3%81%A3%E3%81%9FAB%E3%83%86%E3%82%B9%E3%83%88%E3%81%AE%E3%82%B7%E3%83%9F%E3%83%A5%E3%83%AC%E3%83%BC%E3%82%B7%E3%83%A7%E3%83%B3.ipynb\" target=\"_parent\"><img src=\"https://colab.research.google.com/assets/colab-badge.svg\" alt=\"Open In Colab\"/></a>"
      ]
    },
    {
      "cell_type": "code",
      "execution_count": 1,
      "metadata": {
        "id": "2q345y7UCb4V"
      },
      "outputs": [],
      "source": [
        "import numpy as np\n",
        "from scipy.stats import bernoulli, norm, skew\n",
        "\n",
        "import matplotlib.pyplot as plt"
      ]
    },
    {
      "cell_type": "code",
      "source": [
        "p = 0.001\n",
        "sample_size_a = 1000\n",
        "sample_size_b = 100\n",
        "num_iteration = 10000\n",
        "\n",
        "rs = np.random.RandomState(11)\n",
        "\n",
        "x_a = rs.binomial(sample_size_a, p, size=num_iteration)\n",
        "x_b = rs.binomial(sample_size_b, p, size=num_iteration)"
      ],
      "metadata": {
        "id": "0bt16P8PCjA2"
      },
      "execution_count": 2,
      "outputs": []
    },
    {
      "cell_type": "code",
      "source": [
        "# 分布の skewness と経験的に必要なサンプルサイズ\n",
        "skewness = bernoulli.stats(p, moments=\"s\")\n",
        "skewness, skewness ** 2 * 355"
      ],
      "metadata": {
        "colab": {
          "base_uri": "https://localhost:8080/"
        },
        "id": "4NxWw9xHehGq",
        "outputId": "f43d4dea-307e-4202-de3b-e6425e7bd4c9"
      },
      "execution_count": 3,
      "outputs": [
        {
          "output_type": "execute_result",
          "data": {
            "text/plain": [
              "(31.575322658699797, 353935.35535535525)"
            ]
          },
          "metadata": {},
          "execution_count": 3
        }
      ]
    },
    {
      "cell_type": "code",
      "source": [
        "# 2標本の母比率の差の z 検定\n",
        "p_hat_a = x_a / sample_size_a\n",
        "p_hat_b = x_b / sample_size_b\n",
        "\n",
        "sum_of_sample_size = sample_size_a + sample_size_b\n",
        "\n",
        "p_hat_pooled = (x_a + x_b) / sum_of_sample_size\n",
        "\n",
        "z_values = (p_hat_a - p_hat_b) / np.sqrt(p_hat_pooled * (1 - p_hat_pooled) * (1/sample_size_a + 1/sample_size_b))\n",
        "\n",
        "z_alpha = norm.ppf(0.975)\n",
        "(z_values< -z_alpha).sum() / num_iteration, (z_values>z_alpha).sum() / num_iteration, (np.abs(z_values)>z_alpha).sum() / num_iteration"
      ],
      "metadata": {
        "colab": {
          "base_uri": "https://localhost:8080/"
        },
        "id": "TIK4p4pADZlA",
        "outputId": "7e1801a5-76c4-42d7-a4ed-53cfae0fa5d5"
      },
      "execution_count": 4,
      "outputs": [
        {
          "output_type": "stream",
          "name": "stderr",
          "text": [
            "<ipython-input-4-72c49d04bb60>:9: RuntimeWarning: invalid value encountered in divide\n",
            "  z_values = (p_hat_a - p_hat_b) / np.sqrt(p_hat_pooled * (1 - p_hat_pooled) * (1/sample_size_a + 1/sample_size_b))\n"
          ]
        },
        {
          "output_type": "execute_result",
          "data": {
            "text/plain": [
              "(0.0713, 0.0, 0.0713)"
            ]
          },
          "metadata": {},
          "execution_count": 4
        }
      ]
    },
    {
      "cell_type": "code",
      "source": [
        "# 参考： 標本 CV 率の分布\n",
        "fig, ax = plt.subplots()\n",
        "\n",
        "ax.hist(p_hat_a, density=True, alpha=0.7, label=\"pattern A\")\n",
        "ax.hist(p_hat_b, density=True, alpha=0.7, label=\"pattern B\")\n",
        "\n",
        "ax.legend()"
      ],
      "metadata": {
        "colab": {
          "base_uri": "https://localhost:8080/",
          "height": 447
        },
        "id": "ZLoHXpmNJj4M",
        "outputId": "82756e00-c5c7-4289-ec0b-f6186e6d9d58"
      },
      "execution_count": 5,
      "outputs": [
        {
          "output_type": "execute_result",
          "data": {
            "text/plain": [
              "<matplotlib.legend.Legend at 0x7f50f6f4a230>"
            ]
          },
          "metadata": {},
          "execution_count": 5
        },
        {
          "output_type": "display_data",
          "data": {
            "text/plain": [
              "<Figure size 640x480 with 1 Axes>"
            ],
            "image/png": "[encoded data removed]"
          },
          "metadata": {}
        }
      ]
    },
    {
      "cell_type": "code",
      "source": [
        "skew(p_hat_a), skew(p_hat_b)"
      ],
      "metadata": {
        "colab": {
          "base_uri": "https://localhost:8080/"
        },
        "id": "xV9Szdjv_mqZ",
        "outputId": "30c7b023-3342-473b-e9e5-82e088b80d54"
      },
      "execution_count": 6,
      "outputs": [
        {
          "output_type": "execute_result",
          "data": {
            "text/plain": [
              "(1.0075073847610363, 3.132640198793857)"
            ]
          },
          "metadata": {},
          "execution_count": 6
        }
      ]
    },
    {
      "cell_type": "code",
      "source": [
        "# 参考： 標本 CV 率の差の分布\n",
        "fig, ax = plt.subplots()\n",
        "ax.hist(p_hat_a - p_hat_b)"
      ],
      "metadata": {
        "colab": {
          "base_uri": "https://localhost:8080/",
          "height": 517
        },
        "id": "ctlX76hhK66P",
        "outputId": "8df84864-c521-48cb-83c6-8c7a34054059"
      },
      "execution_count": 7,
      "outputs": [
        {
          "output_type": "execute_result",
          "data": {
            "text/plain": [
              "(array([2.000e+00, 0.000e+00, 2.500e+01, 1.100e+01, 0.000e+00, 8.470e+02,\n",
              "        6.400e+01, 0.000e+00, 8.902e+03, 1.490e+02]),\n",
              " array([-0.03  , -0.0263, -0.0226, -0.0189, -0.0152, -0.0115, -0.0078,\n",
              "        -0.0041, -0.0004,  0.0033,  0.007 ]),\n",
              " <BarContainer object of 10 artists>)"
            ]
          },
          "metadata": {},
          "execution_count": 7
        },
        {
          "output_type": "display_data",
          "data": {
            "text/plain": [
              "<Figure size 640x480 with 1 Axes>"
            ],
            "image/png": "[encoded data removed]"
          },
          "metadata": {}
        }
      ]
    },
    {
      "cell_type": "code",
      "source": [
        "skew(p_hat_a - p_hat_b)"
      ],
      "metadata": {
        "colab": {
          "base_uri": "https://localhost:8080/"
        },
        "id": "BbLswB5vStlC",
        "outputId": "3ed52eda-914c-4551-e135-30d785e7d47e"
      },
      "execution_count": 8,
      "outputs": [
        {
          "output_type": "execute_result",
          "data": {
            "text/plain": [
              "-2.667806182944919"
            ]
          },
          "metadata": {},
          "execution_count": 8
        }
      ]
    }
  ]
}