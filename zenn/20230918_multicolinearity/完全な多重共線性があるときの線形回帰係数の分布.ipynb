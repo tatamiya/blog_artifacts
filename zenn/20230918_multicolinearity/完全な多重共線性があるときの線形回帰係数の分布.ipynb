{
  "nbformat": 4,
  "nbformat_minor": 0,
  "metadata": {
    "colab": {
      "provenance": [],
      "authorship_tag": "ABX9TyM2yUnT1u1fQqpZbQMzuntp",
      "include_colab_link": true
    },
    "kernelspec": {
      "name": "python3",
      "display_name": "Python 3"
    },
    "language_info": {
      "name": "python"
    }
  },
  "cells": [
    {
      "cell_type": "markdown",
      "metadata": {
        "id": "view-in-github",
        "colab_type": "text"
      },
      "source": [
        "<a href=\"https://colab.research.google.com/github/tatamiya/blog_artifacts/blob/main/zenn/20230918_multicolinearity/%E5%AE%8C%E5%85%A8%E3%81%AA%E5%A4%9A%E9%87%8D%E5%85%B1%E7%B7%9A%E6%80%A7%E3%81%8C%E3%81%82%E3%82%8B%E3%81%A8%E3%81%8D%E3%81%AE%E7%B7%9A%E5%BD%A2%E5%9B%9E%E5%B8%B0%E4%BF%82%E6%95%B0%E3%81%AE%E5%88%86%E5%B8%83.ipynb\" target=\"_parent\"><img src=\"https://colab.research.google.com/assets/colab-badge.svg\" alt=\"Open In Colab\"/></a>"
      ]
    },
    {
      "cell_type": "code",
      "execution_count": 64,
      "metadata": {
        "id": "rvKGdUJylgAq"
      },
      "outputs": [],
      "source": [
        "import numpy as np\n",
        "from scipy.stats import norm\n",
        "import matplotlib.pyplot as plt"
      ]
    },
    {
      "cell_type": "code",
      "source": [
        "sample_size = 10\n",
        "\n",
        "sigma1 = 4\n",
        "x1 = sigma1 * np.random.randn(sample_size) + 1"
      ],
      "metadata": {
        "id": "UzLGs8niloQo"
      },
      "execution_count": 65,
      "outputs": []
    },
    {
      "cell_type": "code",
      "source": [
        "coef = 2.0\n",
        "\n",
        "x2 = x1 * coef"
      ],
      "metadata": {
        "id": "QgpXVDGjtyJY"
      },
      "execution_count": 66,
      "outputs": []
    },
    {
      "cell_type": "code",
      "source": [
        "plt.scatter(x1, x2)"
      ],
      "metadata": {
        "colab": {
          "base_uri": "https://localhost:8080/",
          "height": 448
        },
        "id": "NIwnippANuJt",
        "outputId": "bdb2b7d5-a7ef-4a96-d7cf-20cad02fd9cc"
      },
      "execution_count": 67,
      "outputs": [
        {
          "output_type": "execute_result",
          "data": {
            "text/plain": [
              "<matplotlib.collections.PathCollection at 0x7dfd6caba5c0>"
            ]
          },
          "metadata": {},
          "execution_count": 67
        },
        {
          "output_type": "display_data",
          "data": {
            "text/plain": [
              "<Figure size 640x480 with 1 Axes>"
            ],
            "image/png": "[encoded data removed]"
          },
          "metadata": {}
        }
      ]
    },
    {
      "cell_type": "code",
      "source": [
        "# design matrix\n",
        "x_mat = np.r_[[np.ones(sample_size), x1, x2]].T\n",
        "x_mat"
      ],
      "metadata": {
        "colab": {
          "base_uri": "https://localhost:8080/"
        },
        "id": "mcgPP9AFl0zD",
        "outputId": "7044db32-64be-416b-ee59-cd3cd8fbe5dc"
      },
      "execution_count": 68,
      "outputs": [
        {
          "output_type": "execute_result",
          "data": {
            "text/plain": [
              "array([[ 1.        , -1.06902053, -2.13804107],\n",
              "       [ 1.        , 12.51498366, 25.02996732],\n",
              "       [ 1.        ,  5.49877924, 10.99755849],\n",
              "       [ 1.        , -2.87496113, -5.74992225],\n",
              "       [ 1.        ,  0.17493386,  0.34986771],\n",
              "       [ 1.        ,  4.26558543,  8.53117085],\n",
              "       [ 1.        ,  3.30865166,  6.61730332],\n",
              "       [ 1.        ,  1.88787742,  3.77575483],\n",
              "       [ 1.        , -2.0921829 , -4.1843658 ],\n",
              "       [ 1.        ,  2.06509251,  4.13018502]])"
            ]
          },
          "metadata": {},
          "execution_count": 68
        }
      ]
    },
    {
      "cell_type": "code",
      "source": [
        "# coefficients\n",
        "beta = np.array([1, 1, 1])\n",
        "\n",
        "# std of error term\n",
        "sigma = 1.5"
      ],
      "metadata": {
        "id": "vOY1DIJYCvR3"
      },
      "execution_count": 69,
      "outputs": []
    },
    {
      "cell_type": "code",
      "source": [
        "# Moore-Penrose Inverse\n",
        "x_pinv = np.linalg.pinv(x_mat)"
      ],
      "metadata": {
        "id": "nlGa3AAOMRE0"
      },
      "execution_count": 70,
      "outputs": []
    },
    {
      "cell_type": "code",
      "source": [
        "beta0 = x_pinv @ x_mat @ beta\n",
        "beta0"
      ],
      "metadata": {
        "colab": {
          "base_uri": "https://localhost:8080/"
        },
        "id": "34uj_0_vJ0Oc",
        "outputId": "52f75f41-81e1-4a18-a2c8-2b7ddd40e46b"
      },
      "execution_count": 71,
      "outputs": [
        {
          "output_type": "execute_result",
          "data": {
            "text/plain": [
              "array([1. , 0.6, 1.2])"
            ]
          },
          "metadata": {},
          "execution_count": 71
        }
      ]
    },
    {
      "cell_type": "markdown",
      "source": [
        "# 係数の推定（最小二乗法）"
      ],
      "metadata": {
        "id": "0sKpz4KDJ2A3"
      }
    },
    {
      "cell_type": "code",
      "source": [
        "eps_vec = np.random.randn(sample_size) * sigma\n",
        "y = np.dot(x_mat, beta) + eps_vec\n",
        "y"
      ],
      "metadata": {
        "colab": {
          "base_uri": "https://localhost:8080/"
        },
        "id": "YGzwOHg8nF9P",
        "outputId": "ba2f0622-8f2f-4b0a-c59e-3764c7870180"
      },
      "execution_count": 72,
      "outputs": [
        {
          "output_type": "execute_result",
          "data": {
            "text/plain": [
              "array([ 0.05691464, 42.50677795, 15.38533796, -7.93868252,  0.77341619,\n",
              "       12.09563668, 12.0738153 ,  5.09624597, -3.46663067,  7.68414033])"
            ]
          },
          "metadata": {},
          "execution_count": 72
        }
      ]
    },
    {
      "cell_type": "code",
      "source": [
        "# LSM (w=0)\n",
        "beta_hat_0 = np.dot(x_pinv, y)\n",
        "\n",
        "beta_hat_0"
      ],
      "metadata": {
        "colab": {
          "base_uri": "https://localhost:8080/"
        },
        "id": "kKvUpuLKnw3E",
        "outputId": "c93708ab-1992-4be3-9f4b-8c867a82b21a"
      },
      "execution_count": 73,
      "outputs": [
        {
          "output_type": "execute_result",
          "data": {
            "text/plain": [
              "array([1.06864092, 0.6214643 , 1.2429286 ])"
            ]
          },
          "metadata": {},
          "execution_count": 73
        }
      ]
    },
    {
      "cell_type": "code",
      "source": [],
      "metadata": {
        "id": "xGvlQ8B_HQin"
      },
      "execution_count": 73,
      "outputs": []
    },
    {
      "cell_type": "code",
      "source": [
        "def plot_line(func, x_min, x_max, ax, **args):\n",
        "  _x = x_min + (x_max - x_min) * np.arange(0, 1, 1/20)\n",
        "  _y = func(_x)\n",
        "\n",
        "  return ax.plot(_x, _y, **args)"
      ],
      "metadata": {
        "id": "L9N1OYnDERqR"
      },
      "execution_count": 74,
      "outputs": []
    },
    {
      "cell_type": "code",
      "source": [
        "const = beta_hat_0[2] + 0.5 * beta_hat_0[1]\n",
        "const"
      ],
      "metadata": {
        "id": "iHU2IYDypMM0",
        "colab": {
          "base_uri": "https://localhost:8080/"
        },
        "outputId": "ed32c018-6060-4bcd-cc93-6a5c30d9caec"
      },
      "execution_count": 75,
      "outputs": [
        {
          "output_type": "execute_result",
          "data": {
            "text/plain": [
              "1.5536607459401388"
            ]
          },
          "metadata": {},
          "execution_count": 75
        }
      ]
    },
    {
      "cell_type": "code",
      "source": [
        "fig, ax = plt.subplots()\n",
        "ax.set_box_aspect(0.5)\n",
        "\n",
        "x_min = -1.0\n",
        "x_max = 3.0\n",
        "\n",
        "plot_line(lambda x: -0.5*x + const, x_min, x_max, ax, ls=\"-\", label=\"$\\\\hat{\\\\beta}$\")\n",
        "\n",
        "ax.scatter(x=beta_hat_0[1], y=beta_hat_0[2], s=100, label=\"$\\\\hat{\\\\beta}^{(0)}$\")\n",
        "\n",
        "ax.scatter(beta[1], beta[2], color=\"red\", s=100, marker=\"*\", label=\"$\\\\beta=(1,1)^\\\\top$\")\n",
        "\n",
        "ax.legend()\n",
        "\n",
        "ax.set_xlim(x_min, x_max)\n",
        "ax.set_ylim(0,(x_max - x_min)*0.5)\n",
        "\n",
        "ax.set_xlabel(\"$\\\\hat{\\\\beta}_1$\", fontsize=\"15\")\n",
        "ax.set_ylabel(\"$\\\\hat{\\\\beta}_2$\", fontsize=\"15\")"
      ],
      "metadata": {
        "colab": {
          "base_uri": "https://localhost:8080/",
          "height": 369
        },
        "id": "c9cUIfWLDvHi",
        "outputId": "7ae07d01-2f34-4c6c-98a7-5963f0dd17a2"
      },
      "execution_count": 76,
      "outputs": [
        {
          "output_type": "execute_result",
          "data": {
            "text/plain": [
              "Text(0, 0.5, '$\\\\hat{\\\\beta}_2$')"
            ]
          },
          "metadata": {},
          "execution_count": 76
        },
        {
          "output_type": "display_data",
          "data": {
            "text/plain": [
              "<Figure size 640x480 with 1 Axes>"
            ],
            "image/png": "[encoded data removed]"
          },
          "metadata": {}
        }
      ]
    },
    {
      "cell_type": "code",
      "source": [],
      "metadata": {
        "id": "wFBT3bepJEPn"
      },
      "execution_count": 76,
      "outputs": []
    },
    {
      "cell_type": "markdown",
      "source": [
        "# 複数回試行した結果\n",
        "\n",
        "$\\boldsymbol{X}$ は変えずに、誤差項 $\\{ɛ_i\\}_{i=1}^n$ を変えて推定を繰り返し、推定量の分布を見た。"
      ],
      "metadata": {
        "id": "p489SHhkJFD7"
      }
    },
    {
      "cell_type": "code",
      "source": [
        "n_iter = 1000\n",
        "list_beta_hat = []\n",
        "\n",
        "x_pinv = np.linalg.pinv(x_mat)\n",
        "\n",
        "for i in range(0, n_iter):\n",
        "  eps_vec = np.random.randn(sample_size) * sigma\n",
        "  y = np.dot(x_mat, beta) + eps_vec\n",
        "  beta_hat = np.dot(x_pinv, y)\n",
        "  list_beta_hat.append(beta_hat)\n",
        "\n",
        "beta_hat_samples = np.array(list_beta_hat)"
      ],
      "metadata": {
        "id": "nrzy1n3lrQj1"
      },
      "execution_count": 77,
      "outputs": []
    },
    {
      "cell_type": "code",
      "source": [
        "beta_hat_samples.mean(0)"
      ],
      "metadata": {
        "colab": {
          "base_uri": "https://localhost:8080/"
        },
        "id": "MYSmghbssRPM",
        "outputId": "482fa7d4-04d0-4d9e-d645-2a6f714666e2"
      },
      "execution_count": 78,
      "outputs": [
        {
          "output_type": "execute_result",
          "data": {
            "text/plain": [
              "array([0.97133137, 0.60052972, 1.20105944])"
            ]
          },
          "metadata": {},
          "execution_count": 78
        }
      ]
    },
    {
      "cell_type": "code",
      "source": [
        "band_width = sigma / np.sqrt(5 * ((x1 - x1.mean())**2).sum()) * norm.ppf(0.975)\n",
        "ratio = band_width / np.linalg.norm(np.array([3/5, 6/5]))\n",
        "\n",
        "c_threshold_lower = 1.5 * (1 - ratio)\n",
        "c_threshold_upper = 1.5 * (1 + ratio)"
      ],
      "metadata": {
        "id": "m_3kVvdCcEag"
      },
      "execution_count": 79,
      "outputs": []
    },
    {
      "cell_type": "code",
      "source": [
        "beta_hat_samples = np.array(list_beta_hat)\n",
        "beta1_hat = beta_hat_samples[:, 1]\n",
        "beta2_hat = beta_hat_samples[:, 2]\n",
        "\n",
        "fig, ax = plt.subplots()\n",
        "ax.set_box_aspect(0.5)\n",
        "\n",
        "x_min = -1.0\n",
        "x_max = 3.0\n",
        "\n",
        "plot_line(lambda x: -0.5*x + 1.5, x_min, x_max, ax, ls=\"--\", label=\"$E[\\\\hat{\\\\beta}]$\")\n",
        "\n",
        "_x = x_min + (x_max - x_min) * np.arange(0, 1, 1/20)\n",
        "y_upper = -0.5*_x + c_threshold_upper\n",
        "y_lower = -0.5*_x + c_threshold_lower\n",
        "\n",
        "ax.scatter(x=beta1_hat, y=beta2_hat, s=1, label=\"$\\\\hat{\\\\beta}^{(0)}$\")\n",
        "ax.scatter(beta0[1], beta0[2], color=\"red\", s=100, marker=\"+\", label=\"$E[\\\\hat{\\\\beta}^{(0)}]$\")\n",
        "ax.scatter(beta[1], beta[2], color=\"red\", s=100, marker=\"*\", label=\"$\\\\beta=(1,1)^\\\\top$\")\n",
        "\n",
        "ax.fill_between(_x, y_lower, y_upper, alpha=0.4, color=\"gray\", label=\"C.I. (95%)\")\n",
        "\n",
        "ax.legend()\n",
        "\n",
        "ax.set_xlabel(\"$\\\\hat{\\\\beta}_1$\", fontsize=\"15\")\n",
        "ax.set_ylabel(\"$\\\\hat{\\\\beta}_2$\", fontsize=\"15\")\n",
        "\n",
        "ax.set_xlim(x_min, x_max)\n",
        "ax.set_ylim(0,(x_max - x_min)*0.5)"
      ],
      "metadata": {
        "colab": {
          "base_uri": "https://localhost:8080/",
          "height": 369
        },
        "id": "2FTGsKp_cmKT",
        "outputId": "f9889dc6-f1ba-4259-aea0-a792169095a9"
      },
      "execution_count": 80,
      "outputs": [
        {
          "output_type": "execute_result",
          "data": {
            "text/plain": [
              "(0.0, 2.0)"
            ]
          },
          "metadata": {},
          "execution_count": 80
        },
        {
          "output_type": "display_data",
          "data": {
            "text/plain": [
              "<Figure size 640x480 with 1 Axes>"
            ],
            "image/png": "[encoded data removed]"
          },
          "metadata": {}
        }
      ]
    },
    {
      "cell_type": "code",
      "source": [
        "(np.linalg.norm(beta_hat_samples[:, 1:] - beta0[1:], axis=1) > sigma  * norm.ppf(0.975) / np.sqrt(5 * ((x1 - x1.mean())**2).sum())).sum()"
      ],
      "metadata": {
        "colab": {
          "base_uri": "https://localhost:8080/"
        },
        "id": "v4OgibBZe9yY",
        "outputId": "28c943b5-6f68-47e7-d7e5-90769a48fabd"
      },
      "execution_count": 81,
      "outputs": [
        {
          "output_type": "execute_result",
          "data": {
            "text/plain": [
              "38"
            ]
          },
          "metadata": {},
          "execution_count": 81
        }
      ]
    }
  ]
}